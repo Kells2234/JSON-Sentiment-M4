{
 "cells": [
  {
   "cell_type": "markdown",
   "metadata": {},
   "source": [
    "# Web Mining and Applied NLP (44-620)\n",
    "\n",
    "## Requests, JSON, and NLP\n",
    "\n",
    "### Student Name: Kelly Simmons\n",
    "#### Github: https://github.com/Kells2234/JSON-Sentiment-M4\n",
    "\n",
    "Perform the tasks described in the Markdown cells below.  When you have completed the assignment make sure your code cells have all been run (and have output beneath them) and ensure you have committed and pushed ALL of your changes to your assignment repository.\n",
    "\n",
    "Make sure you have [installed spaCy and its pipeline](https://spacy.io/usage#quickstart) and [spaCyTextBlob](https://spacy.io/universe/project/spacy-textblob)\n",
    "\n",
    "Every question that requires you to write code will have a code cell underneath it; you may either write your entire solution in that cell or write it in a python file (`.py`), then import and run the appropriate code to answer the question.\n",
    "\n",
    "This assignment requires that you write additional files (either JSON or pickle files); make sure to submit those files in your repository as well."
   ]
  },
  {
   "cell_type": "code",
   "execution_count": 2,
   "metadata": {},
   "outputs": [
    {
     "name": "stdout",
     "output_type": "stream",
     "text": [
      "All prereqs installed.\n",
      "Package            Version\n",
      "------------------ ---------\n",
      "asttokens          2.2.1\n",
      "backcall           0.2.0\n",
      "blis               0.7.10\n",
      "catalogue          2.0.9\n",
      "certifi            2023.7.22\n",
      "charset-normalizer 3.2.0\n",
      "click              8.1.6\n",
      "colorama           0.4.6\n",
      "comm               0.1.3\n",
      "confection         0.1.0\n",
      "cymem              2.0.7\n",
      "debugpy            1.6.7\n",
      "decorator          5.1.1\n",
      "en-core-web-sm     3.6.0\n",
      "executing          1.2.0\n",
      "idna               3.4\n",
      "ipykernel          6.25.0\n",
      "ipython            8.14.0\n",
      "jedi               0.18.2\n",
      "Jinja2             3.1.2\n",
      "joblib             1.3.1\n",
      "jupyter_client     8.3.0\n",
      "jupyter_core       5.3.1\n",
      "langcodes          3.3.0\n",
      "MarkupSafe         2.1.3\n",
      "matplotlib-inline  0.1.6\n",
      "murmurhash         1.0.9\n",
      "nest-asyncio       1.5.6\n",
      "nltk               3.8.1\n",
      "numpy              1.25.1\n",
      "packaging          23.1\n",
      "parso              0.8.3\n",
      "pathy              0.10.2\n",
      "pickleshare        0.7.5\n",
      "pip                23.2.1\n",
      "platformdirs       3.9.1\n",
      "preshed            3.0.8\n",
      "prompt-toolkit     3.0.39\n",
      "psutil             5.9.5\n",
      "pure-eval          0.2.2\n",
      "pydantic           1.10.12\n",
      "Pygments           2.15.1\n",
      "python-dateutil    2.8.2\n",
      "pywin32            306\n",
      "pyzmq              25.1.0\n",
      "regex              2023.6.3\n",
      "requests           2.31.0\n",
      "setuptools         68.0.0\n",
      "six                1.16.0\n",
      "smart-open         6.3.0\n",
      "spacy              3.6.0\n",
      "spacy-legacy       3.0.12\n",
      "spacy-loggers      1.0.4\n",
      "spacytextblob      4.0.0\n",
      "srsly              2.4.7\n",
      "stack-data         0.6.2\n",
      "textblob           0.15.3\n",
      "thinc              8.1.10\n",
      "tornado            6.3.2\n",
      "tqdm               4.65.0\n",
      "traitlets          5.9.0\n",
      "typer              0.9.0\n",
      "typing_extensions  4.7.1\n",
      "urllib3            2.0.4\n",
      "wasabi             1.1.2\n",
      "wcwidth            0.2.6\n",
      "wheel              0.41.0\n"
     ]
    }
   ],
   "source": [
    "# Create and activate a Python virtual environment. \n",
    "# Before starting the project, try all these imports FIRST\n",
    "# Address any errors you get running this code cell \n",
    "# by installing the necessary packages into your active Python environment.\n",
    "# Try to resolve issues using your materials and the web.\n",
    "# If that doesn't work, ask for help in the discussion forums.\n",
    "# You can't complete the exercises until you import these - start early! \n",
    "# We also import json and pickle (included in the Python Standard Library).\n",
    "\n",
    "import json\n",
    "import pickle\n",
    "\n",
    "import requests\n",
    "import spacy\n",
    "from spacytextblob.spacytextblob import SpacyTextBlob\n",
    "\n",
    "print('All prereqs installed.')\n",
    "!pip list"
   ]
  },
  {
   "cell_type": "markdown",
   "metadata": {},
   "source": [
    "1. The following code accesses the [lyrics.ovh](https://lyricsovh.docs.apiary.io/#reference/0/lyrics-of-a-song/search) public api, searches for the lyrics of a song, and stores it in a dictionary object.  Write the resulting json to a file (either a JSON file or a pickle file; you choose). You will read in the contents of this file for future questions so we do not need to frequently access the API."
   ]
  },
  {
   "cell_type": "code",
   "execution_count": 2,
   "metadata": {},
   "outputs": [
    {
     "name": "stdout",
     "output_type": "stream",
     "text": [
      "Searching for songs by They Might Be Giants...\n",
      "\n",
      "Song 1: \"200 Sbemails (for Homestar Runner)\"\n",
      "Song 2: \"2082\"\n",
      "Song 3: \"25 O’Clock\"\n",
      "Song 4: \"32 Footsteps\"\n",
      "Song 5: \"3rd Amendment\"\n",
      "\n",
      "Reached user-specified song limit (5).\n",
      "Done. Found 5 songs.\n",
      "Searching for \"Birdhouse In Your Soul\" by They Might Be Giants...\n",
      "Done.\n"
     ]
    }
   ],
   "source": [
    "import requests\n",
    "import json\n",
    "\n",
    "# result = json.loads(requests.get('https://api.lyrics.ovh/v1/They Might Be Giants/Birdhouse in your soul').text)\n",
    "\n",
    "# Setting up Lyrics Genius\n",
    "import lyricsgenius\n",
    "genius = lyricsgenius.Genius(\"7V8yngWGXXqB8-GgHm6Ts7wD8YcM5QU4Nw8ZzzaNxDb9b_4dZlUxIi5JY9iZ_sAL\")\n",
    "\n",
    "# Setting the artist variable to the corrrect artist\n",
    "artist = genius.search_artist(\"They Might Be Giants\", max_songs=5, sort=\"title\")\n",
    "\n",
    "# Find the \"Birdhouse in Your Soul\" song\n",
    "song = artist.song('Birdhouse In Your Soul')\n",
    "\n",
    "# Saving the Lyrics\n",
    "lyrics = song.lyrics\n",
    "\n",
    "# Creating the dictionary with song information\n",
    "song_dict = {\n",
    "    'Artist': 'They Might Be Giants',\n",
    "    'Song': 'Birdhouse In Your Soul',\n",
    "    'Lyrics': lyrics\n",
    "}\n",
    "\n",
    "with open('birdhouse_lyrics.json', 'w') as new_file:\n",
    "    json.dump(song_dict, new_file)"
   ]
  },
  {
   "cell_type": "markdown",
   "metadata": {},
   "source": [
    "2. Read in the contents of your file.  Print the lyrics of the song (not the entire dictionary!) and use spaCyTextBlob to perform sentiment analysis on the lyrics.  Print the polarity score of the sentiment analysis.  Given that the range of the polarity score is `[-1.0,1.0]` which corresponds to how positive or negative the text in question is, do you think the lyrics have a more positive or negative connotaion?  Answer this question in a comment in your code cell."
   ]
  },
  {
   "cell_type": "code",
   "execution_count": 3,
   "metadata": {},
   "outputs": [
    {
     "data": {
      "text/plain": [
       "\"52 ContributorsBirdhouse in Your Soul Lyrics[Bridge]\\nI'm your only friend\\nI'm not your only friend\\nBut I'm a little glowing friend\\nBut really I'm not actually your friend\\nBut I am\\n\\n[Chorus]\\nBlue canary in the outlet by the light switch\\nWho watches over you\\nMake a little birdhouse in your soul\\nNot to put too fine a point on it\\nSay I'm the only bee in your bonnet\\nMake a little birdhouse in your soul\\n\\n[Verse 1]\\nI have a secret to tell\\nFrom my electrical well\\nIt's a simple message and I'm\\nLeaving out the whistles and bells\\nSo the room must listen to me\\nFilibuster vigilantly\\nMy name is blue canary\\nOne note spelled l-i-t-e\\nMy story's infinite\\nLike the Longines Symphonette\\nIt doesn't rest\\nSee They Might Be Giants LiveGet tickets as low as $58You might also like[Chorus]\\nBlue canary in the outlet by the light switch\\nWho watches over you\\nMake a little birdhouse in your soul\\nNot to put too fine a point on it\\nSay I'm the only bee in your bonnet\\nMake a little birdhouse in your soul\\n\\n[Bridge]\\nI'm your only friend\\nI'm not your only friend\\nBut I'm a little glowing friend\\nBut really I'm not actually your friend\\nBut I am\\n\\n[Verse 2]\\nThere's a picture opposite me\\nOf my primitive ancestry\\nWhich stood on rocky shores\\nAnd kept the beaches shipwreck-free\\nThough I respect that a lot\\nI'd be fired if that were my job\\nAfter killing Jason off\\nAnd countless screaming Argonauts\\nBlue bird of friendliness\\nLike guardian angels it's\\nAlways near\\n[Chorus 2]\\nBlue canary in the outlet by the light switch\\nWho watches over you\\nMake a little birdhouse in your soul\\nNot to put too fine a point on it\\nSay I'm the only bee in your bonnet\\nMake a little birdhouse in your soul\\nWhile you're at it\\nKeep the nightlight on inside\\nThe birdhouse in your soul\\nNot to put too fine a point on it\\nSay I'm the only bee in your bonnet\\nMake a little birdhouse in your soul\\nWhile you're at it\\nKeep the nightlight on inside\\nThe birdhouse in your soul\\n(Blue canary in the outlet by the light switch\\nWho watches over you\\nMake a little birdhouse in your soul)\\nMake a little birdhouse in your soul\\nWhile you're at it\\nKeep the nightlight on inside\\nThe birdhouse in your soul\\nNot to put too fine a point on it\\nSay I'm the only bee in your bonnet\\nMake a little birdhouse in your soul19Embed\""
      ]
     },
     "execution_count": 3,
     "metadata": {},
     "output_type": "execute_result"
    }
   ],
   "source": [
    "with open ('birdhouse_lyrics.json', 'r') as file:\n",
    "    dictionary = json.load(file)\n",
    "\n",
    "dictionary['Lyrics']"
   ]
  },
  {
   "cell_type": "code",
   "execution_count": 6,
   "metadata": {},
   "outputs": [
    {
     "name": "stdout",
     "output_type": "stream",
     "text": [
      "Lyrics:\n",
      "Lyrics of the song\n",
      "Polarity Score: 0.0\n"
     ]
    }
   ],
   "source": [
    "import json\n",
    "import spacy\n",
    "from spacytextblob.spacytextblob import SpacyTextBlob\n",
    "\n",
    "with open('lyrics.json', 'r') as file:\n",
    "    data = json.load(file)\n",
    "\n",
    "lyrics = data[\"lyrics\"]\n",
    "\n",
    "\n",
    "\n",
    "print(\"Lyrics:\")\n",
    "print(lyrics)\n",
    "\n",
    "nlp = spacy.load(\"en_core_web_sm\")\n",
    "nlp.add_pipe(\"spacytextblob\")\n",
    "doc = nlp(lyrics)\n",
    "\n",
    "polarity_score = doc._.polarity\n",
    "\n",
    "print(\"Polarity Score:\", polarity_score)"
   ]
  },
  {
   "cell_type": "markdown",
   "metadata": {},
   "source": [
    "3. Write a function that takes an artist, song, and filename, accesses the lyrics.ovh api to get the song lyrics, and writes the results to the specified filename.  Test this function by getting the lyrics to any four songs of your choice and storing them in different files."
   ]
  },
  {
   "cell_type": "code",
   "execution_count": 7,
   "metadata": {},
   "outputs": [
    {
     "name": "stdout",
     "output_type": "stream",
     "text": [
      "Searching for songs by Prince...\n",
      "\n",
      "Changing artist name to 'RZA'\n",
      "Song 1: \".\"\n",
      "\n",
      "Reached user-specified song limit (1).\n",
      "Done. Found 1 songs.\n",
      "Searching for \"The Beautiful Ones\" by RZA...\n",
      "Done.\n",
      "Searching for songs by The Gap Band...\n",
      "\n",
      "Song 1: \"All of My Love\"\n",
      "\n",
      "Reached user-specified song limit (1).\n",
      "Done. Found 1 songs.\n",
      "Searching for \"Wednesday Lover\" by The Gap Band...\n",
      "Done.\n",
      "Searching for songs by Ella Mai...\n",
      "\n",
      "Song 1: \"10,000 Hours\"\n",
      "\n",
      "Reached user-specified song limit (1).\n",
      "Done. Found 1 songs.\n",
      "Searching for \"Trip\" by Ella Mai...\n",
      "Done.\n",
      "Searching for songs by Vividry...\n",
      "\n",
      "Song 1: \"A Million Signs\"\n",
      "\n",
      "Reached user-specified song limit (1).\n",
      "Done. Found 1 songs.\n",
      "Searching for \"Your Good Lies\" by Vividry...\n",
      "Done.\n"
     ]
    }
   ],
   "source": [
    "def write_song_from_api_to_JSON(artist, song, filename):\n",
    "    genius = lyricsgenius.Genius(\"7V8yngWGXXqB8-GgHm6Ts7wD8YcM5QU4Nw8ZzzaNxDb9b_4dZlUxIi5JY9iZ_sAL\")\n",
    "    artist = genius.search_artist(artist, max_songs=1, sort=\"title\")\n",
    "    song = artist.song(song)\n",
    "    with open(filename, 'w') as filename:\n",
    "        json.dump(song.lyrics, filename)  \n",
    "\n",
    "write_song_from_api_to_JSON(\"Prince\", \"The Beautiful Ones\", \"the_beautiful_ones_lyrics.json\")\n",
    "write_song_from_api_to_JSON(\"The Gap Band\", \"Wednesday Lover\", \"wednesday_lover_lyrics.json\")\n",
    "write_song_from_api_to_JSON(\"Ella Mai\", \"Trip\", \"trip_lyrics.json\")\n",
    "write_song_from_api_to_JSON(\"Vividry\", \"Your Good Lies\", \"your_good_lies_lyrics.json\")\n"
   ]
  },
  {
   "cell_type": "markdown",
   "metadata": {},
   "source": [
    "4. Write a function that takes the name of a file that contains song lyrics, loads the file, performs sentiment analysis, and returns the polarity score.  Use this function to print the polarity scores (with the name of the song) of the three files you created in question 3.  Does the reported polarity match your understanding of the song's lyrics? Why or why not do you think that might be?  Answer the questions in either a comment in the code cell or a markdown cell under the code cell."
   ]
  },
  {
   "cell_type": "code",
   "execution_count": 13,
   "metadata": {},
   "outputs": [
    {
     "name": "stdout",
     "output_type": "stream",
     "text": [
      "The Beautiful Ones Polarity: 0.30047790750915754\n",
      "Wednesday Lover Polarity: 0.28204545454545454\n",
      "Trip Polarity: -0.0761261261261261\n",
      "Your Good Lies Polarity: 0.7\n"
     ]
    }
   ],
   "source": [
    "def polarity_score_from_lyrics(song, filename):\n",
    "    nlp = spacy.load('en_core_web_sm')\n",
    "    nlp.add_pipe('spacytextblob')\n",
    "    with open(filename, 'r') as f:\n",
    "        lyrics = json.load(f)\n",
    "    doc = nlp(lyrics)\n",
    "    polarity = doc._.blob.polarity\n",
    "    print(f'{song} Polarity: {polarity}')\n",
    "\n",
    "polarity_score_from_lyrics(\"The Beautiful Ones\", \"the_beautiful_ones_lyrics.json\")\n",
    "polarity_score_from_lyrics(\"Wednesday Lover\", \"wednesday_lover_lyrics.json\")\n",
    "polarity_score_from_lyrics(\"Trip\", \"trip_lyrics.json\")\n",
    "polarity_score_from_lyrics(\"Your Good Lies\", \"your_good_lies_lyrics.json\")"
   ]
  },
  {
   "cell_type": "markdown",
   "metadata": {},
   "source": [
    "The Beautiful Ones (0.30): I was thinking that the program would give a negative sentiment for this song. However I had to rethink that because the program does not take into account the actual music of the song. Just going off the words, I understand the scoring.\n",
    "\n",
    "Wednesday Lover (0.28): This is a pure love song I thought the score would be higher.\n",
    "\n",
    "Trip (-0.07): This is also is a love song. However, looking at the lyrics I can see why the song got the score it did. The artist uses lyrics to bring her feelings to life but the program may see them as negative.\n",
    "\n",
    "Your Good Lies (0.7): This song got the highest score of them all which is surprising. However reading through the lyrics, I see why it got the score it did."
   ]
  }
 ],
 "metadata": {
  "kernelspec": {
   "display_name": "Python 3",
   "language": "python",
   "name": "python3"
  },
  "language_info": {
   "codemirror_mode": {
    "name": "ipython",
    "version": 3
   },
   "file_extension": ".py",
   "mimetype": "text/x-python",
   "name": "python",
   "nbconvert_exporter": "python",
   "pygments_lexer": "ipython3",
   "version": "3.11.4"
  }
 },
 "nbformat": 4,
 "nbformat_minor": 4
}
